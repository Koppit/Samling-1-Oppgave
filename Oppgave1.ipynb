{
 "cells": [
  {
   "cell_type": "code",
   "execution_count": null,
   "id": "cdfb969d",
   "metadata": {},
   "outputs": [],
   "source": [
    "import os\n",
    "\n",
    "# Sette miljøvariabler for DINOv3\n",
    "# Dette bruker vi nedenfor for å finne nedlastede repoet: Du må skrive din egen sti her\n",
    "\n",
    "# r\"\"\" string is interpeted as a raw string (backslash is literal backslash and not escape characters)\n",
    "\n",
    "os.environ[\"DINOV3_LOCATION\"] = r\"C:\\Users\\Jan Magne\\OneDrive - Akershus fylkeskommune\\dinov3\""
   ]
  },
  {
   "cell_type": "code",
   "execution_count": null,
   "id": "15f645d6",
   "metadata": {},
   "outputs": [],
   "source": [
    "# Sjekke om miljøvariabelen er satt riktig\n",
    "\n",
    "print(\"DINOV3_LOCATION:\", os.getenv(\"DINOV3_LOCATION\"))"
   ]
  },
  {
   "cell_type": "code",
   "execution_count": null,
   "id": "2df05502",
   "metadata": {},
   "outputs": [],
   "source": [
    "# Laste ned alle pakkene som trengs: \n",
    "%pip install torch torchvision pillow numpy matplotlib scipy scikit-learn tqdm opencv-python\n",
    "#install er CUDA versjon av torch\n",
    "%pip install torch torchvision --index-url https://download.pytorch.org/whl/cu129\n",
    "# Eller kan man laste ned fra terminalen med \"pip install -r requirements.txt\" "
   ]
  },
  {
   "cell_type": "code",
   "execution_count": null,
   "id": "69918a30",
   "metadata": {},
   "outputs": [],
   "source": [
    "#importere nødvendige biblioteker\n",
    "\n",
    "import io\n",
    "import os\n",
    "import pickle\n",
    "import tarfile\n",
    "import urllib\n",
    "\n",
    "from PIL import Image\n",
    "import numpy as np\n",
    "import matplotlib.pyplot as plt\n",
    "from scipy import signal\n",
    "from sklearn.metrics import precision_recall_curve\n",
    "from sklearn.metrics import average_precision_score\n",
    "from sklearn.linear_model import LogisticRegression\n",
    "import torch\n",
    "import torchvision.transforms.functional as TF\n",
    "from tqdm import tqdm\n",
    "\n",
    "# Kommentere ut denne delen som setter DINOv3_LOCATION\n",
    "\n",
    "# DINOV3_GITHUB_LOCATION = \"facebookresearch/dinov3\"\n",
    "\n",
    "# if os.getenv(\"DINOV3_LOCATION\") is not None:\n",
    "#     DINOV3_LOCATION = os.getenv(\"DINOV3_LOCATION\")\n",
    "# else:\n",
    "#     DINOV3_LOCATION = DINOV3_GITHUB_LOCATION\n",
    "\n",
    "# print(f\"DINOv3 location set to {DINOV3_LOCATION}\")"
   ]
  },
  {
   "cell_type": "code",
   "execution_count": null,
   "id": "e8a74abf",
   "metadata": {},
   "outputs": [],
   "source": [
    "# sett DINOv3 location til miljøvariabelen\n",
    "\n",
    "DINOV3_LOCATION = os.getenv(\"DINOV3_LOCATION\")\n",
    "\n",
    "if DINOV3_LOCATION is None:\n",
    "    raise ValueError(\"DINOV3_LOCATION environment variabel er ikke satt. Se tidligere steg.\")\n",
    "\n",
    "print(\"DINOv3 location set to:\", DINOV3_LOCATION)"
   ]
  },
  {
   "cell_type": "code",
   "execution_count": null,
   "id": "9877d2c8",
   "metadata": {},
   "outputs": [],
   "source": [
    "print(torch.__version__)\n",
    "print(torch.cuda.is_available())\n",
    "print(torch.version.cuda)"
   ]
  },
  {
   "cell_type": "code",
   "execution_count": null,
   "id": "3d511dae",
   "metadata": {},
   "outputs": [],
   "source": [
    "# Vi starer med denne, da denne er minst og krever mindre ressurser\n",
    "MODEL_DINOV3_VITS = \"dinov3_vits16\"\n",
    "\n",
    "# Andre modeller du kan prøve\n",
    "# Husk at du må laste ned \"weights\" for den modellen du ønsker å bruke\n",
    "MODEL_DINOV3_VITSP = \"dinov3_vits16plus\"\n",
    "MODEL_DINOV3_VITB = \"dinov3_vitb16\"\n",
    "MODEL_DINOV3_VITL = \"dinov3_vitl16\"\n",
    "MODEL_DINOV3_VITHP = \"dinov3_vith16plus\"\n",
    "MODEL_DINOV3_VIT7B = \"dinov3_vit7b16\"\n",
    "\n",
    "# we take DINOv3 ViT-S (since we have the pretrained weights for this model)\n",
    "MODEL_NAME = MODEL_DINOV3_VITS # Her kan du velge en annen modell \n",
    "\n",
    "# Load model without pretrained weights to avoid web download\n",
    "model = torch.hub.load(\n",
    "    repo_or_dir=DINOV3_LOCATION,\n",
    "    model=MODEL_NAME,\n",
    "    source=\"local\",\n",
    "    pretrained=True \n",
    ")\n",
    "\n",
    "# Set model to evaluation mode and move to GPU\n",
    "model.eval()\n",
    "model.cuda()\n",
    "\n",
    "# Test the model with a small dummy input to see if it produces valid output\n",
    "print(\"\\nTesting model with dummy input...\")\n",
    "dummy_input = torch.randn(1, 3, 224, 224).cuda()\n",
    "with torch.no_grad():\n",
    "    try:\n",
    "        test_output = model(dummy_input)\n",
    "        print(f\"Model test successful. Output shape: {test_output.shape}\")\n",
    "        print(f\"Output has NaN: {torch.isnan(test_output).any()}\")\n",
    "        print(f\"Output range: {test_output.min():.4f} to {test_output.max():.4f}\")\n",
    "    except Exception as e:\n",
    "        print(f\"Model test failed: {e}\")\n",
    "        print(\"There might be an issue with the model or checkpoint loading.\")"
   ]
  }
 ],
 "metadata": {
  "kernelspec": {
   "display_name": ".venv",
   "language": "python",
   "name": "python3"
  },
  "language_info": {
   "codemirror_mode": {
    "name": "ipython",
    "version": 3
   },
   "file_extension": ".py",
   "mimetype": "text/x-python",
   "name": "python",
   "nbconvert_exporter": "python",
   "pygments_lexer": "ipython3",
   "version": "3.13.7"
  }
 },
 "nbformat": 4,
 "nbformat_minor": 5
}
