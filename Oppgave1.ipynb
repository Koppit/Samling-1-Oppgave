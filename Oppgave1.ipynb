{
 "cells": [
  {
   "cell_type": "code",
   "execution_count": 5,
   "id": "cdfb969d",
   "metadata": {},
   "outputs": [],
   "source": [
    "import os\n",
    "\n",
    "# Sette miljøvariabler for DINOv3\n",
    "# Dette bruker vi nedenfor for å finne nedlastede repoet: Du må skrive din egen sti her\n",
    "\n",
    "# r\"\"\" string is interpeted as a raw string (backslash is literal backslash and not escape characters)\n",
    "\n",
    "os.environ[\"DINOV3_LOCATION\"] = r\"C:\\Users\\Jan Magne\\OneDrive - Akershus fylkeskommune\\dinov3\""
   ]
  },
  {
   "cell_type": "code",
   "execution_count": 6,
   "id": "15f645d6",
   "metadata": {},
   "outputs": [
    {
     "name": "stdout",
     "output_type": "stream",
     "text": [
      "DINOV3_LOCATION: C:\\Users\\Jan Magne\\OneDrive - Akershus fylkeskommune\\dinov3\n"
     ]
    }
   ],
   "source": [
    "# Sjekke om miljøvariabelen er satt riktig\n",
    "\n",
    "print(\"DINOV3_LOCATION:\", os.getenv(\"DINOV3_LOCATION\"))"
   ]
  },
  {
   "cell_type": "code",
   "execution_count": 7,
   "id": "2df05502",
   "metadata": {},
   "outputs": [
    {
     "name": "stdout",
     "output_type": "stream",
     "text": [
      "Requirement already satisfied: torch in c:\\users\\jan magne\\onedrive - akershus fylkeskommune\\.venv\\lib\\site-packages (2.8.0+cu129)\n",
      "Requirement already satisfied: torchvision in c:\\users\\jan magne\\onedrive - akershus fylkeskommune\\.venv\\lib\\site-packages (0.23.0+cu129)\n",
      "Requirement already satisfied: pillow in c:\\users\\jan magne\\onedrive - akershus fylkeskommune\\.venv\\lib\\site-packages (11.3.0)\n",
      "Requirement already satisfied: numpy in c:\\users\\jan magne\\onedrive - akershus fylkeskommune\\.venv\\lib\\site-packages (2.2.6)\n",
      "Requirement already satisfied: matplotlib in c:\\users\\jan magne\\onedrive - akershus fylkeskommune\\.venv\\lib\\site-packages (3.10.6)\n",
      "Requirement already satisfied: scipy in c:\\users\\jan magne\\onedrive - akershus fylkeskommune\\.venv\\lib\\site-packages (1.16.1)\n",
      "Requirement already satisfied: scikit-learn in c:\\users\\jan magne\\onedrive - akershus fylkeskommune\\.venv\\lib\\site-packages (1.7.2)\n",
      "Requirement already satisfied: tqdm in c:\\users\\jan magne\\onedrive - akershus fylkeskommune\\.venv\\lib\\site-packages (4.67.1)\n",
      "Requirement already satisfied: opencv-python in c:\\users\\jan magne\\onedrive - akershus fylkeskommune\\.venv\\lib\\site-packages (4.12.0.88)\n",
      "Requirement already satisfied: filelock in c:\\users\\jan magne\\onedrive - akershus fylkeskommune\\.venv\\lib\\site-packages (from torch) (3.19.1)\n",
      "Requirement already satisfied: typing-extensions>=4.10.0 in c:\\users\\jan magne\\onedrive - akershus fylkeskommune\\.venv\\lib\\site-packages (from torch) (4.15.0)\n",
      "Requirement already satisfied: sympy>=1.13.3 in c:\\users\\jan magne\\onedrive - akershus fylkeskommune\\.venv\\lib\\site-packages (from torch) (1.14.0)\n",
      "Requirement already satisfied: networkx in c:\\users\\jan magne\\onedrive - akershus fylkeskommune\\.venv\\lib\\site-packages (from torch) (3.5)\n",
      "Requirement already satisfied: jinja2 in c:\\users\\jan magne\\onedrive - akershus fylkeskommune\\.venv\\lib\\site-packages (from torch) (3.1.6)\n",
      "Requirement already satisfied: fsspec in c:\\users\\jan magne\\onedrive - akershus fylkeskommune\\.venv\\lib\\site-packages (from torch) (2025.9.0)\n",
      "Requirement already satisfied: setuptools in c:\\users\\jan magne\\onedrive - akershus fylkeskommune\\.venv\\lib\\site-packages (from torch) (80.9.0)\n",
      "Requirement already satisfied: contourpy>=1.0.1 in c:\\users\\jan magne\\onedrive - akershus fylkeskommune\\.venv\\lib\\site-packages (from matplotlib) (1.3.3)\n",
      "Requirement already satisfied: cycler>=0.10 in c:\\users\\jan magne\\onedrive - akershus fylkeskommune\\.venv\\lib\\site-packages (from matplotlib) (0.12.1)\n",
      "Requirement already satisfied: fonttools>=4.22.0 in c:\\users\\jan magne\\onedrive - akershus fylkeskommune\\.venv\\lib\\site-packages (from matplotlib) (4.59.2)\n",
      "Requirement already satisfied: kiwisolver>=1.3.1 in c:\\users\\jan magne\\onedrive - akershus fylkeskommune\\.venv\\lib\\site-packages (from matplotlib) (1.4.9)\n",
      "Requirement already satisfied: packaging>=20.0 in c:\\users\\jan magne\\onedrive - akershus fylkeskommune\\.venv\\lib\\site-packages (from matplotlib) (25.0)\n",
      "Requirement already satisfied: pyparsing>=2.3.1 in c:\\users\\jan magne\\onedrive - akershus fylkeskommune\\.venv\\lib\\site-packages (from matplotlib) (3.2.3)\n",
      "Requirement already satisfied: python-dateutil>=2.7 in c:\\users\\jan magne\\onedrive - akershus fylkeskommune\\.venv\\lib\\site-packages (from matplotlib) (2.9.0.post0)\n",
      "Requirement already satisfied: joblib>=1.2.0 in c:\\users\\jan magne\\onedrive - akershus fylkeskommune\\.venv\\lib\\site-packages (from scikit-learn) (1.5.2)\n",
      "Requirement already satisfied: threadpoolctl>=3.1.0 in c:\\users\\jan magne\\onedrive - akershus fylkeskommune\\.venv\\lib\\site-packages (from scikit-learn) (3.6.0)\n",
      "Requirement already satisfied: colorama in c:\\users\\jan magne\\onedrive - akershus fylkeskommune\\.venv\\lib\\site-packages (from tqdm) (0.4.6)\n",
      "Requirement already satisfied: six>=1.5 in c:\\users\\jan magne\\onedrive - akershus fylkeskommune\\.venv\\lib\\site-packages (from python-dateutil>=2.7->matplotlib) (1.17.0)\n",
      "Requirement already satisfied: mpmath<1.4,>=1.1.0 in c:\\users\\jan magne\\onedrive - akershus fylkeskommune\\.venv\\lib\\site-packages (from sympy>=1.13.3->torch) (1.3.0)\n",
      "Requirement already satisfied: MarkupSafe>=2.0 in c:\\users\\jan magne\\onedrive - akershus fylkeskommune\\.venv\\lib\\site-packages (from jinja2->torch) (3.0.2)\n",
      "Note: you may need to restart the kernel to use updated packages.\n",
      "Looking in indexes: https://download.pytorch.org/whl/cu129\n",
      "Requirement already satisfied: torch in c:\\users\\jan magne\\onedrive - akershus fylkeskommune\\.venv\\lib\\site-packages (2.8.0+cu129)\n",
      "Requirement already satisfied: torchvision in c:\\users\\jan magne\\onedrive - akershus fylkeskommune\\.venv\\lib\\site-packages (0.23.0+cu129)\n",
      "Requirement already satisfied: filelock in c:\\users\\jan magne\\onedrive - akershus fylkeskommune\\.venv\\lib\\site-packages (from torch) (3.19.1)\n",
      "Requirement already satisfied: typing-extensions>=4.10.0 in c:\\users\\jan magne\\onedrive - akershus fylkeskommune\\.venv\\lib\\site-packages (from torch) (4.15.0)\n",
      "Requirement already satisfied: sympy>=1.13.3 in c:\\users\\jan magne\\onedrive - akershus fylkeskommune\\.venv\\lib\\site-packages (from torch) (1.14.0)\n",
      "Requirement already satisfied: networkx in c:\\users\\jan magne\\onedrive - akershus fylkeskommune\\.venv\\lib\\site-packages (from torch) (3.5)\n",
      "Requirement already satisfied: jinja2 in c:\\users\\jan magne\\onedrive - akershus fylkeskommune\\.venv\\lib\\site-packages (from torch) (3.1.6)\n",
      "Requirement already satisfied: fsspec in c:\\users\\jan magne\\onedrive - akershus fylkeskommune\\.venv\\lib\\site-packages (from torch) (2025.9.0)\n",
      "Requirement already satisfied: setuptools in c:\\users\\jan magne\\onedrive - akershus fylkeskommune\\.venv\\lib\\site-packages (from torch) (80.9.0)\n",
      "Requirement already satisfied: numpy in c:\\users\\jan magne\\onedrive - akershus fylkeskommune\\.venv\\lib\\site-packages (from torchvision) (2.2.6)\n",
      "Requirement already satisfied: pillow!=8.3.*,>=5.3.0 in c:\\users\\jan magne\\onedrive - akershus fylkeskommune\\.venv\\lib\\site-packages (from torchvision) (11.3.0)\n",
      "Requirement already satisfied: mpmath<1.4,>=1.1.0 in c:\\users\\jan magne\\onedrive - akershus fylkeskommune\\.venv\\lib\\site-packages (from sympy>=1.13.3->torch) (1.3.0)\n",
      "Requirement already satisfied: MarkupSafe>=2.0 in c:\\users\\jan magne\\onedrive - akershus fylkeskommune\\.venv\\lib\\site-packages (from jinja2->torch) (3.0.2)\n",
      "Note: you may need to restart the kernel to use updated packages.\n"
     ]
    }
   ],
   "source": [
    "# Laste ned alle pakkene som trengs: \n",
    "%pip install torch torchvision pillow numpy matplotlib scipy scikit-learn tqdm opencv-python\n",
    "#install er CUDA versjon av torch\n",
    "%pip install torch torchvision --index-url https://download.pytorch.org/whl/cu129\n",
    "# Eller kan man laste ned fra terminalen med \"pip install -r requirements.txt\" "
   ]
  },
  {
   "cell_type": "code",
   "execution_count": 8,
   "id": "69918a30",
   "metadata": {},
   "outputs": [],
   "source": [
    "#importere nødvendige biblioteker\n",
    "\n",
    "import io\n",
    "import os\n",
    "import pickle\n",
    "import tarfile\n",
    "import urllib\n",
    "\n",
    "from PIL import Image\n",
    "import numpy as np\n",
    "import matplotlib.pyplot as plt\n",
    "from scipy import signal\n",
    "from sklearn.metrics import precision_recall_curve\n",
    "from sklearn.metrics import average_precision_score\n",
    "from sklearn.linear_model import LogisticRegression\n",
    "import torch\n",
    "import torchvision.transforms.functional as TF\n",
    "from tqdm import tqdm\n",
    "\n",
    "# Kommentere ut denne delen som setter DINOv3_LOCATION\n",
    "\n",
    "# DINOV3_GITHUB_LOCATION = \"facebookresearch/dinov3\"\n",
    "\n",
    "# if os.getenv(\"DINOV3_LOCATION\") is not None:\n",
    "#     DINOV3_LOCATION = os.getenv(\"DINOV3_LOCATION\")\n",
    "# else:\n",
    "#     DINOV3_LOCATION = DINOV3_GITHUB_LOCATION\n",
    "\n",
    "# print(f\"DINOv3 location set to {DINOV3_LOCATION}\")"
   ]
  },
  {
   "cell_type": "code",
   "execution_count": 9,
   "id": "e8a74abf",
   "metadata": {},
   "outputs": [
    {
     "name": "stdout",
     "output_type": "stream",
     "text": [
      "DINOv3 location set to: C:\\Users\\Jan Magne\\OneDrive - Akershus fylkeskommune\\dinov3\n"
     ]
    }
   ],
   "source": [
    "# sett DINOv3 location til miljøvariabelen\n",
    "\n",
    "DINOV3_LOCATION = os.getenv(\"DINOV3_LOCATION\")\n",
    "\n",
    "if DINOV3_LOCATION is None:\n",
    "    raise ValueError(\"DINOV3_LOCATION environment variabel er ikke satt. Se tidligere steg.\")\n",
    "\n",
    "print(\"DINOv3 location set to:\", DINOV3_LOCATION)"
   ]
  },
  {
   "cell_type": "code",
   "execution_count": 10,
   "id": "9877d2c8",
   "metadata": {},
   "outputs": [
    {
     "name": "stdout",
     "output_type": "stream",
     "text": [
      "2.8.0+cu129\n",
      "True\n",
      "12.9\n"
     ]
    }
   ],
   "source": [
    "print(torch.__version__)\n",
    "print(torch.cuda.is_available())\n",
    "print(torch.version.cuda)"
   ]
  },
  {
   "cell_type": "code",
   "execution_count": 11,
   "id": "3d511dae",
   "metadata": {},
   "outputs": [
    {
     "name": "stdout",
     "output_type": "stream",
     "text": [
      "\n",
      "Testing model with dummy input...\n",
      "Model test successful. Output shape: torch.Size([1, 384])\n",
      "Output has NaN: False\n",
      "Output range: -1.8553 to 1.8238\n"
     ]
    }
   ],
   "source": [
    "# Vi starer med denne, da denne er minst og krever mindre ressurser\n",
    "MODEL_DINOV3_VITS = \"dinov3_vits16\"\n",
    "\n",
    "# Andre modeller du kan prøve\n",
    "# Husk at du må laste ned \"weights\" for den modellen du ønsker å bruke\n",
    "MODEL_DINOV3_VITSP = \"dinov3_vits16plus\"\n",
    "MODEL_DINOV3_VITB = \"dinov3_vitb16\"\n",
    "MODEL_DINOV3_VITL = \"dinov3_vitl16\"\n",
    "MODEL_DINOV3_VITHP = \"dinov3_vith16plus\"\n",
    "MODEL_DINOV3_VIT7B = \"dinov3_vit7b16\"\n",
    "\n",
    "# we take DINOv3 ViT-S (since we have the pretrained weights for this model)\n",
    "MODEL_NAME = MODEL_DINOV3_VITS # Her kan du velge en annen modell \n",
    "\n",
    "# Load model without pretrained weights to avoid web download\n",
    "model = torch.hub.load(\n",
    "    repo_or_dir=DINOV3_LOCATION,\n",
    "    model=MODEL_NAME,\n",
    "    source=\"local\",\n",
    "    pretrained=True \n",
    ")\n",
    "\n",
    "# Set model to evaluation mode and move to GPU\n",
    "model.eval()\n",
    "model.cuda()\n",
    "\n",
    "# Test the model with a small dummy input to see if it produces valid output\n",
    "print(\"\\nTesting model with dummy input...\")\n",
    "dummy_input = torch.randn(1, 3, 224, 224).cuda()\n",
    "with torch.no_grad():\n",
    "    try:\n",
    "        test_output = model(dummy_input)\n",
    "        print(f\"Model test successful. Output shape: {test_output.shape}\")\n",
    "        print(f\"Output has NaN: {torch.isnan(test_output).any()}\")\n",
    "        print(f\"Output range: {test_output.min():.4f} to {test_output.max():.4f}\")\n",
    "    except Exception as e:\n",
    "        print(f\"Model test failed: {e}\")\n",
    "        print(\"There might be an issue with the model or checkpoint loading.\")"
   ]
  }
 ],
 "metadata": {
  "kernelspec": {
   "display_name": ".venv",
   "language": "python",
   "name": "python3"
  },
  "language_info": {
   "codemirror_mode": {
    "name": "ipython",
    "version": 3
   },
   "file_extension": ".py",
   "mimetype": "text/x-python",
   "name": "python",
   "nbconvert_exporter": "python",
   "pygments_lexer": "ipython3",
   "version": "3.13.7"
  }
 },
 "nbformat": 4,
 "nbformat_minor": 5
}
